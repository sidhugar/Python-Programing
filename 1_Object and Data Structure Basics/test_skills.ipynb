{
 "cells": [
  {
   "cell_type": "code",
   "execution_count": 13,
   "id": "f940ee73-149e-44fa-8a27-67e3e6f68253",
   "metadata": {},
   "outputs": [
    {
     "name": "stdout",
     "output_type": "stream",
     "text": [
      "'madam' is a palindrome: True\n",
      "'A man, a plan, a canal: Panama' is a palindrome: False\n",
      "'hello' is a palindrome: False\n",
      "'Racecar' is a palindrome: False\n",
      "'No lemon, no melon' is a palindrome: False\n",
      "'' (empty string) is a palindrome: True\n",
      "'a' is a palindrome: True\n",
      "'ab' is a palindrome: False\n"
     ]
    }
   ],
   "source": [
    "def is_palindrome (str_pali):\n",
    "    return str_pali == str_pali[::-1]\n",
    "\n",
    "print(f\"'madam' is a palindrome: {is_palindrome('madam')}\")\n",
    "print(f\"'A man, a plan, a canal: Panama' is a palindrome: {is_palindrome('A man, a plan, a canal: Panama')}\")\n",
    "print(f\"'hello' is a palindrome: {is_palindrome('hello')}\")\n",
    "print(f\"'Racecar' is a palindrome: {is_palindrome('Racecar')}\")\n",
    "print(f\"'No lemon, no melon' is a palindrome: {is_palindrome('No lemon, no melon')}\")\n",
    "print(f\"'' (empty string) is a palindrome: {is_palindrome('')}\")\n",
    "print(f\"'a' is a palindrome: {is_palindrome('a')}\")\n",
    "print(f\"'ab' is a palindrome: {is_palindrome('ab')}\")\n"
   ]
  },
  {
   "cell_type": "code",
   "execution_count": 2,
   "id": "cfe4a847-9ee2-4559-927b-1c3f09bbe274",
   "metadata": {},
   "outputs": [
    {
     "name": "stdout",
     "output_type": "stream",
     "text": [
      "[1, 2, 3, 4]\n",
      "[1, 2, 3, 6]\n"
     ]
    }
   ],
   "source": [
    "# lists are mutable\n",
    "\n",
    "mylist = [1, 2, 3, 4]\n",
    "print (mylist)\n",
    "mylist [-1] = 6\n",
    "print (mylist)"
   ]
  },
  {
   "cell_type": "code",
   "execution_count": null,
   "id": "c6ca13a4-1f6a-4b8d-8376-9e3397f3e36b",
   "metadata": {},
   "outputs": [],
   "source": []
  }
 ],
 "metadata": {
  "kernelspec": {
   "display_name": "Python 3 (ipykernel)",
   "language": "python",
   "name": "python3"
  },
  "language_info": {
   "codemirror_mode": {
    "name": "ipython",
    "version": 3
   },
   "file_extension": ".py",
   "mimetype": "text/x-python",
   "name": "python",
   "nbconvert_exporter": "python",
   "pygments_lexer": "ipython3",
   "version": "3.12.10"
  }
 },
 "nbformat": 4,
 "nbformat_minor": 5
}
